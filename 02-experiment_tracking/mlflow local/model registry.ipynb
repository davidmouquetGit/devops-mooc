{
 "cells": [
  {
   "cell_type": "code",
   "execution_count": 1,
   "id": "e94dde9d",
   "metadata": {},
   "outputs": [
    {
     "name": "stderr",
     "output_type": "stream",
     "text": [
      "2025/09/29 08:20:32 INFO mlflow.store.db.utils: Creating initial MLflow database tables...\n",
      "2025/09/29 08:20:32 INFO mlflow.store.db.utils: Updating database tables\n",
      "INFO  [alembic.runtime.migration] Context impl SQLiteImpl.\n",
      "INFO  [alembic.runtime.migration] Will assume non-transactional DDL.\n",
      "INFO  [alembic.runtime.migration] Context impl SQLiteImpl.\n",
      "INFO  [alembic.runtime.migration] Will assume non-transactional DDL.\n"
     ]
    }
   ],
   "source": [
    "from  mlflow.tracking import MlflowClient\n",
    "\n",
    "MLFLOW_TRACKING_URI = \"http://127.0.0.1:5000\"\n",
    "MLFLOW_TRACKING_URI = \"sqlite:///mlflow.db\"\n",
    "\n",
    "client = MlflowClient(tracking_uri=MLFLOW_TRACKING_URI)"
   ]
  },
  {
   "cell_type": "code",
   "execution_count": 2,
   "id": "8789d325",
   "metadata": {},
   "outputs": [],
   "source": [
    "exp = client.get_experiment_by_name(name=\"taxis nyc\")"
   ]
  },
  {
   "cell_type": "code",
   "execution_count": 3,
   "id": "60cf44aa",
   "metadata": {},
   "outputs": [
    {
     "data": {
      "text/plain": [
       "'2'"
      ]
     },
     "execution_count": 3,
     "metadata": {},
     "output_type": "execute_result"
    }
   ],
   "source": [
    "exp.experiment_id"
   ]
  },
  {
   "cell_type": "code",
   "execution_count": 4,
   "id": "4d29b6de",
   "metadata": {},
   "outputs": [],
   "source": [
    "from mlflow.entities import ViewType\n",
    "\n",
    "\n",
    "runs = client.search_runs(experiment_ids=exp.experiment_id,\n",
    "                          filter_string=\"\",\n",
    "                          run_view_type=ViewType.ACTIVE_ONLY,\n",
    "                          max_results=15,\n",
    "                          order_by=[\"metrics.rmse ASC\"])"
   ]
  },
  {
   "cell_type": "code",
   "execution_count": 5,
   "id": "86af472b",
   "metadata": {},
   "outputs": [
    {
     "name": "stdout",
     "output_type": "stream",
     "text": [
      "run id: e1fe16fceb1b44b5b9d4a0bd351f3645, name: adorable-trout-8\n",
      "run id: e691159d9e7f4a95824d3899d0a0deb9, name: omniscient-bee-496\n",
      "run id: 6eb8aa5649c446768d184c015436c72c, name: treasured-sponge-674\n",
      "run id: db12e1054a9a4f2bbaba1665f094f37a, name: placid-shoat-56\n",
      "run id: 7b5128b6a3614b18bd71bcf2a8891e77, name: wise-bear-336\n",
      "run id: bfba02fcca534227a952ddda3bf6b9ef, name: bemused-moth-8\n",
      "run id: 839772dd968849e29965bdfbc83b2631, name: dapper-stork-375\n",
      "run id: 763dec8152f349bd8b28ed643e8c3cae, name: ambitious-stork-930\n",
      "run id: 5e26b2eb769a489488b4ff15f81a3158, name: valuable-eel-676\n",
      "run id: 77da90ce398f4f93a67543dc065fcd40, name: classy-penguin-49\n",
      "run id: a58c8d6a43f2411fba98cf04fcb9de7d, name: popular-fox-254\n",
      "run id: 4a6ffdb1fbc5467d85728a2c60ff93d8, name: hilarious-squid-638\n",
      "run id: 5b62eca2bc08451cb3b491dfaad88852, name: nervous-lamb-800\n",
      "run id: cd7fcab70b5048bfa88b7ff3940c6e22, name: bald-trout-871\n",
      "run id: ae597b2326104ec4aad3b3af5349092d, name: intrigued-bear-10\n"
     ]
    }
   ],
   "source": [
    "for run in runs:\n",
    "    print(f\"run id: {run.info.run_id}, name: {run.data.tags['mlflow.runName']}\")"
   ]
  },
  {
   "cell_type": "code",
   "execution_count": 9,
   "id": "40278538",
   "metadata": {},
   "outputs": [],
   "source": [
    "from  mlflow.tracking import MlflowClient\n",
    "\n",
    "MLFLOW_TRACKING_URI = \"sqlite:///mlflow.db\"\n",
    "MLFLOW_TRACKING_URI = \"http://127.0.0.1:5000\"\n",
    "\n",
    "client = MlflowClient(tracking_uri=MLFLOW_TRACKING_URI)\n",
    "\n"
   ]
  },
  {
   "cell_type": "code",
   "execution_count": null,
   "id": "fcf20f23",
   "metadata": {},
   "outputs": [],
   "source": [
    "import mlflow\n",
    "run_id = \"77da90ce398f4f93a67543dc065fcd40\"\n",
    "model_uri = f\"runs:/{run_id}/model\"\n",
    "mlflow.register_model(model_uri=model_uri, name=\"nyc-taxis-regressor3\")"
   ]
  },
  {
   "cell_type": "code",
   "execution_count": 32,
   "id": "4e532874",
   "metadata": {},
   "outputs": [
    {
     "data": {
      "text/plain": [
       "'runs:/77da90ce398f4f93a67543dc065fcd40/model'"
      ]
     },
     "execution_count": 32,
     "metadata": {},
     "output_type": "execute_result"
    }
   ],
   "source": [
    "model_uri"
   ]
  },
  {
   "cell_type": "code",
   "execution_count": 11,
   "id": "71b03a2b",
   "metadata": {},
   "outputs": [
    {
     "name": "stdout",
     "output_type": "stream",
     "text": [
      "Model déjà existant ou autre: Registered Model (name=MonSuperModel3) already exists.\n",
      "Version 2 du modèle MonSuperModel3 créée avec succès.\n"
     ]
    }
   ],
   "source": [
    "client = MlflowClient()\n",
    "model_name = \"MonSuperModel3\"\n",
    "\n",
    "# Si le modèle n'existe pas encore dans le registry\n",
    "try:\n",
    "    client.create_registered_model(model_name)\n",
    "    print(f\"Registered model créé: {model_name}\")\n",
    "except Exception as e:\n",
    "    print(f\"Model déjà existant ou autre: {e}\")\n",
    "\n",
    "# URI du modèle loggé\n",
    "model_uri = f\"runs:/{run_id}/model\"\n",
    "\n",
    "# Crée une nouvelle version dans le registry\n",
    "model_version = client.create_model_version(\n",
    "    name=model_name,\n",
    "    source=model_uri,\n",
    "    run_id=run_id\n",
    ")\n",
    "\n",
    "print(\n",
    "    f\"Version {model_version.version} du modèle {model_version.name} créée avec succès.\"\n",
    ")\n"
   ]
  },
  {
   "cell_type": "code",
   "execution_count": 12,
   "id": "27b8b4ca",
   "metadata": {},
   "outputs": [],
   "source": [
    "client.set_registered_model_alias(\n",
    "    name=model_name,\n",
    "    alias=\"staging\",\n",
    "    version=model_version.version\n",
    ")"
   ]
  },
  {
   "cell_type": "code",
   "execution_count": 15,
   "id": "b8cda4d9",
   "metadata": {},
   "outputs": [
    {
     "data": {
      "text/plain": [
       "'file:///home/davidmouquet/Bureau/devops-mooc/03-experiment_tracking/mlruns'"
      ]
     },
     "execution_count": 15,
     "metadata": {},
     "output_type": "execute_result"
    }
   ],
   "source": [
    "mlflow.get_tracking_uri()"
   ]
  },
  {
   "cell_type": "code",
   "execution_count": 14,
   "id": "f7fd5542",
   "metadata": {},
   "outputs": [
    {
     "name": "stdout",
     "output_type": "stream",
     "text": [
      "2 None\n",
      "1 None\n"
     ]
    }
   ],
   "source": [
    "model_name\n",
    "\n",
    "versions = client.search_model_versions(\"name='MonSuperModel3'\")\n",
    "for v in versions:\n",
    "    print(v.version, v.current_stage)"
   ]
  },
  {
   "cell_type": "code",
   "execution_count": null,
   "id": "939d4028",
   "metadata": {},
   "outputs": [],
   "source": [
    "client.create_model_version(name=\"mon super modele\",\n",
    "                            source = model_uri,\n",
    "                            run_id=run_id)"
   ]
  },
  {
   "cell_type": "code",
   "execution_count": 18,
   "id": "a7a83fcd",
   "metadata": {},
   "outputs": [],
   "source": [
    "from  mlflow import MlflowClient\n",
    "\n",
    "\n",
    "MLFLOW_TRACKING_URI = \"sqlite:///mlflow.db\"\n",
    "\n",
    "client = MlflowClient(tracking_uri=MLFLOW_TRACKING_URI)\n"
   ]
  },
  {
   "cell_type": "code",
   "execution_count": 19,
   "id": "99842c28",
   "metadata": {},
   "outputs": [
    {
     "name": "stderr",
     "output_type": "stream",
     "text": [
      "2025/09/29 08:54:56 INFO mlflow.store.db.utils: Creating initial MLflow database tables...\n",
      "2025/09/29 08:54:56 INFO mlflow.store.db.utils: Updating database tables\n",
      "INFO  [alembic.runtime.migration] Context impl SQLiteImpl.\n",
      "INFO  [alembic.runtime.migration] Will assume non-transactional DDL.\n"
     ]
    },
    {
     "data": {
      "text/plain": [
       "<RegisteredModel: aliases={}, creation_timestamp=1759128897028, deployment_job_id=None, deployment_job_state=None, description=None, last_updated_timestamp=1759128897028, latest_versions=[], name='MonSuperModel5', tags={}>"
      ]
     },
     "execution_count": 19,
     "metadata": {},
     "output_type": "execute_result"
    }
   ],
   "source": [
    "client.create_registered_model(\"MonSuperModel5\")"
   ]
  }
 ],
 "metadata": {
  "kernelspec": {
   "display_name": "mlops",
   "language": "python",
   "name": "python3"
  },
  "language_info": {
   "codemirror_mode": {
    "name": "ipython",
    "version": 3
   },
   "file_extension": ".py",
   "mimetype": "text/x-python",
   "name": "python",
   "nbconvert_exporter": "python",
   "pygments_lexer": "ipython3",
   "version": "3.10.18"
  }
 },
 "nbformat": 4,
 "nbformat_minor": 5
}
