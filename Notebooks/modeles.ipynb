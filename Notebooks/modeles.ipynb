{
 "cells": [
  {
   "cell_type": "markdown",
   "id": "9275981a",
   "metadata": {},
   "source": [
    "## Lecture données"
   ]
  },
  {
   "cell_type": "code",
   "execution_count": null,
   "id": "0a28119b",
   "metadata": {},
   "outputs": [
    {
     "name": "stderr",
     "output_type": "stream",
     "text": [
      "Downloading...\n",
      "From (original): https://drive.google.com/uc?id=1vvWPwW4_uFE5BPFODbHxHMXeBQ4cAmmS\n",
      "From (redirected): https://drive.google.com/uc?id=1vvWPwW4_uFE5BPFODbHxHMXeBQ4cAmmS&confirm=t&uuid=0a68551f-4da9-49f4-83c7-811718bb8c14\n",
      "To: /home/david/devops-mooc/Notebooks/raw_data.csv\n",
      "100%|██████████| 154M/154M [00:16<00:00, 9.23MB/s] \n"
     ]
    }
   ],
   "source": [
    "import gdown\n",
    "import pandas as pd\n",
    "from sklearn.preprocessing import OneHotEncoder\n",
    "from sklearn.compose import ColumnTransformer\n",
    "from sklearn.linear_model import LinearRegression\n",
    "from sklearn.pipeline import Pipeline\n",
    "from sklearn.preprocessing import StandardScaler\n",
    "import numpy as np\n",
    "\n",
    "# ID du fichier Google Drive\n",
    "\n",
    "file_id = \"1vvWPwW4_uFE5BPFODbHxHMXeBQ4cAmmS\"\n",
    "url = f\"https://drive.google.com/uc?id={file_id}\"\n",
    "\n",
    "# Téléchargement du fichier\n",
    "output = \"raw_data.csv\"\n",
    "gdown.download(url, output, quiet=False)\n",
    "\n",
    "\n"
   ]
  },
  {
   "cell_type": "code",
   "execution_count": null,
   "id": "8f93f659",
   "metadata": {},
   "outputs": [],
   "source": [
    "df = pd.read_csv(output,sep=';',decimal=\",\")\n",
    "col_to_keep = ['PU_MOY_F2','METAL','LARG_S_E5','D_EPF_1','D_EPF_2']\n",
    "\n",
    "df = df[col_to_keep]\n",
    "df[\"METAL\"] = df[\"METAL\"].astype(str)\n",
    "df.dropna(inplace=True)"
   ]
  },
  {
   "cell_type": "markdown",
   "id": "35620988",
   "metadata": {},
   "source": [
    "## Modèle building"
   ]
  },
  {
   "cell_type": "code",
   "execution_count": 22,
   "id": "13172548",
   "metadata": {},
   "outputs": [],
   "source": [
    "from sklearn.ensemble import GradientBoostingRegressor\n",
    "from sklearn.linear_model import LinearRegression\n",
    "from sklearn.model_selection import train_test_split\n",
    "from sklearn.metrics import root_mean_squared_error\n",
    "from sklearn.metrics import r2_score\n",
    "\n",
    "num_feat = ['LARG_S_E5','D_EPF_1','D_EPF_2']\n",
    "cat_feat = ['METAL']\n",
    "target = 'PU_MOY_F2'\n",
    "\n",
    "num_prepro  = StandardScaler()\n",
    "cat_prepro  = OneHotEncoder(handle_unknown='ignore')\n",
    "prepro =  ColumnTransformer([('num',num_prepro,num_feat),('cat',cat_prepro, cat_feat)])\n",
    "\n",
    "pipeline = Pipeline([(\"preprocessor\",prepro),(\"model\", LinearRegression())])\n",
    "\n",
    "\n",
    "Y  = df[target]\n",
    "X  = df[num_feat+cat_feat]\n",
    "train_x, test_x, train_y, test_y = train_test_split(X, Y, test_size=0.2,random_state=42)\n",
    "\n",
    "pipeline.fit(train_x,train_y)\n",
    "\n",
    "preds_train = pipeline.predict(train_x)  \n",
    "rmse_train = root_mean_squared_error(train_y, preds_train)\n",
    "preds_test = pipeline.predict(test_x)\n",
    "rmse_test = root_mean_squared_error(test_y, preds_test)\n",
    "r2_train =  r2_score(train_y, preds_train)\n",
    "r2_test  =  r2_score(test_y, preds_test)\n",
    "\n"
   ]
  }
 ],
 "metadata": {
  "kernelspec": {
   "display_name": "Python (monenv)",
   "language": "python",
   "name": "monenv"
  },
  "language_info": {
   "codemirror_mode": {
    "name": "ipython",
    "version": 3
   },
   "file_extension": ".py",
   "mimetype": "text/x-python",
   "name": "python",
   "nbconvert_exporter": "python",
   "pygments_lexer": "ipython3",
   "version": "3.12.3"
  }
 },
 "nbformat": 4,
 "nbformat_minor": 5
}
