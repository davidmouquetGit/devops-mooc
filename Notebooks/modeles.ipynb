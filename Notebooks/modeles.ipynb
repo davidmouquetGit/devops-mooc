{
 "cells": [
  {
   "cell_type": "markdown",
   "id": "9275981a",
   "metadata": {},
   "source": [
    "## Lecture données"
   ]
  },
  {
   "cell_type": "code",
   "execution_count": null,
   "id": "0a28119b",
   "metadata": {},
   "outputs": [
    {
     "name": "stderr",
     "output_type": "stream",
     "text": [
      "Downloading...\n",
      "From (original): https://drive.google.com/uc?id=1vvWPwW4_uFE5BPFODbHxHMXeBQ4cAmmS\n",
      "From (redirected): https://drive.google.com/uc?id=1vvWPwW4_uFE5BPFODbHxHMXeBQ4cAmmS&confirm=t&uuid=0a68551f-4da9-49f4-83c7-811718bb8c14\n",
      "To: /home/david/devops-mooc/Notebooks/raw_data.csv\n",
      "100%|██████████| 154M/154M [00:16<00:00, 9.23MB/s] \n"
     ]
    }
   ],
   "source": [
    "import gdown\n",
    "import pandas as pd\n",
    "from sklearn.preprocessing import OneHotEncoder\n",
    "from sklearn.compose import ColumnTransformer\n",
    "from sklearn.linear_model import LinearRegression\n",
    "from sklearn.pipeline import Pipeline\n",
    "from sklearn.preprocessing import StandardScaler\n",
    "import numpy as np\n",
    "\n",
    "# ID du fichier Google Drive\n",
    "\n",
    "file_id = \"1vvWPwW4_uFE5BPFODbHxHMXeBQ4cAmmS\"\n",
    "url = f\"https://drive.google.com/uc?id={file_id}\"\n",
    "\n",
    "# Téléchargement du fichier\n",
    "output = \"raw_data.csv\"\n",
    "gdown.download(url, output, quiet=False)\n",
    "\n",
    "\n"
   ]
  },
  {
   "cell_type": "code",
   "execution_count": null,
   "id": "8f93f659",
   "metadata": {},
   "outputs": [],
   "source": [
    "df = pd.read_csv(output,sep=';',decimal=\",\")\n",
    "col_to_keep = ['PU_MOY_F2','METAL','LARG_S_E5','D_EPF_1','D_EPF_2']\n",
    "\n",
    "df = df[col_to_keep]\n",
    "df[\"METAL\"] = df[\"METAL\"].astype(str)\n",
    "df.dropna(inplace=True)"
   ]
  },
  {
   "cell_type": "markdown",
   "id": "35620988",
   "metadata": {},
   "source": [
    "## Modèle building"
   ]
  },
  {
   "cell_type": "code",
   "execution_count": 22,
   "id": "13172548",
   "metadata": {},
   "outputs": [],
   "source": [
    "from sklearn.ensemble import GradientBoostingRegressor\n",
    "from sklearn.linear_model import LinearRegression\n",
    "from sklearn.model_selection import train_test_split\n",
    "from sklearn.metrics import root_mean_squared_error\n",
    "from sklearn.metrics import r2_score\n",
    "\n",
    "num_feat = ['LARG_S_E5','D_EPF_1','D_EPF_2']\n",
    "cat_feat = ['METAL']\n",
    "target = 'PU_MOY_F2'\n",
    "\n",
    "num_prepro  = StandardScaler()\n",
    "cat_prepro  = OneHotEncoder(handle_unknown='ignore')\n",
    "prepro =  ColumnTransformer([('num',num_prepro,num_feat),('cat',cat_prepro, cat_feat)])\n",
    "\n",
    "pipeline = Pipeline([(\"preprocessor\",prepro),(\"model\", LinearRegression())])\n",
    "\n",
    "\n",
    "Y  = df[target]\n",
    "X  = df[num_feat+cat_feat]\n",
    "train_x, test_x, train_y, test_y = train_test_split(X, Y, test_size=0.2,random_state=42)\n",
    "\n",
    "pipeline.fit(train_x,train_y)\n",
    "\n",
    "preds_train = pipeline.predict(train_x)  \n",
    "rmse_train = root_mean_squared_error(train_y, preds_train)\n",
    "preds_test = pipeline.predict(test_x)\n",
    "rmse_test = root_mean_squared_error(test_y, preds_test)\n",
    "r2_train =  r2_score(train_y, preds_train)\n",
    "r2_test  =  r2_score(test_y, preds_test)\n",
    "\n"
   ]
  },
  {
   "cell_type": "code",
   "execution_count": 25,
   "id": "f6127997",
   "metadata": {},
   "outputs": [
    {
     "data": {
      "text/plain": [
       "[         PU_MOY_F2 METAL    LARG_S_E5    D_EPF_1    D_EPF_2\n",
       " 96184   4857249.00     1  1303.654907  21.815702  14.893016\n",
       " 74119   6924213.50    11  1231.754639  18.501106  10.423095\n",
       " 713297  6634348.00     4  1267.603500  19.902813  11.776095\n",
       " 662765  4053277.50     4  1183.667000  23.801800  16.392733\n",
       " 230019  4704419.00     4   907.995544  19.160686  11.567059\n",
       " ...            ...   ...          ...        ...        ...\n",
       " 259332  4416278.00    63   895.567627  21.124817  13.782087\n",
       " 366430  5039012.50     1   900.037170  20.873106  12.883515\n",
       " 131992  8458385.00    36  1555.977783  20.118412  11.664112\n",
       " 674200  4221847.00    33  1333.151400  21.954138  14.806071\n",
       " 122016  3953065.75     4  1280.825806  22.659718  15.950228\n",
       " \n",
       " [654190 rows x 5 columns],\n",
       "          PU_MOY_F2 METAL    LARG_S_E5    D_EPF_1    D_EPF_2\n",
       " 314103   5598328.0     5  1042.050415  20.961702  13.184835\n",
       " 383395   7258406.5    40  1325.433350  19.044794  10.265768\n",
       " 646865  10623454.0    71  1267.663000  16.103176   8.149384\n",
       " 398612   8782522.0     1  1555.678345  19.201185  10.601971\n",
       " 553202   6276315.5     4  1269.753400  20.093363  11.029378\n",
       " ...            ...   ...          ...        ...        ...\n",
       " 57458    3378276.0     4  1032.230713  23.441210  16.856712\n",
       " 646662   8182459.0     2  1556.889400  19.053356  11.690105\n",
       " 25722    4461759.0    30  1059.336060  22.458689  14.798117\n",
       " 240770   5325854.0    32  1243.294189  21.026056  13.745990\n",
       " 493771   5202379.0     4  1562.086700  22.836405  15.589575\n",
       " \n",
       " [163548 rows x 5 columns]]"
      ]
     },
     "execution_count": 25,
     "metadata": {},
     "output_type": "execute_result"
    }
   ],
   "source": [
    "train_test_split(df, test_size=0.2,random_state=42)"
   ]
  },
  {
   "cell_type": "code",
   "execution_count": 28,
   "id": "a7f395e6",
   "metadata": {},
   "outputs": [
    {
     "name": "stdout",
     "output_type": "stream",
     "text": [
      "Help on built-in function mkdir in module posix:\n",
      "\n",
      "mkdir(path, mode=511, *, dir_fd=None)\n",
      "    Create a directory.\n",
      "\n",
      "    If dir_fd is not None, it should be a file descriptor open to a directory,\n",
      "      and path should be relative; path will then be relative to that directory.\n",
      "    dir_fd may not be implemented on your platform.\n",
      "      If it is unavailable, using it will raise a NotImplementedError.\n",
      "\n",
      "    The mode argument is ignored on Windows. Where it is used, the current umask\n",
      "    value is first masked out.\n",
      "\n"
     ]
    }
   ],
   "source": [
    "help(os.mkdir)"
   ]
  },
  {
   "cell_type": "code",
   "execution_count": 36,
   "id": "ff0f5e36",
   "metadata": {},
   "outputs": [
    {
     "data": {
      "text/html": [
       "<div>\n",
       "<style scoped>\n",
       "    .dataframe tbody tr th:only-of-type {\n",
       "        vertical-align: middle;\n",
       "    }\n",
       "\n",
       "    .dataframe tbody tr th {\n",
       "        vertical-align: top;\n",
       "    }\n",
       "\n",
       "    .dataframe thead th {\n",
       "        text-align: right;\n",
       "    }\n",
       "</style>\n",
       "<table border=\"1\" class=\"dataframe\">\n",
       "  <thead>\n",
       "    <tr style=\"text-align: right;\">\n",
       "      <th></th>\n",
       "      <th>PU_MOY_F2</th>\n",
       "      <th>METAL</th>\n",
       "      <th>LARG_S_E5</th>\n",
       "      <th>D_EPF_1</th>\n",
       "      <th>D_EPF_2</th>\n",
       "    </tr>\n",
       "  </thead>\n",
       "  <tbody>\n",
       "    <tr>\n",
       "      <th>0</th>\n",
       "      <td>4438748.0</td>\n",
       "      <td>13</td>\n",
       "      <td>760.266235</td>\n",
       "      <td>16.998037</td>\n",
       "      <td>9.217524</td>\n",
       "    </tr>\n",
       "    <tr>\n",
       "      <th>1</th>\n",
       "      <td>4351820.0</td>\n",
       "      <td>13</td>\n",
       "      <td>760.719604</td>\n",
       "      <td>16.977560</td>\n",
       "      <td>9.218289</td>\n",
       "    </tr>\n",
       "    <tr>\n",
       "      <th>2</th>\n",
       "      <td>4716703.0</td>\n",
       "      <td>13</td>\n",
       "      <td>761.623596</td>\n",
       "      <td>16.932531</td>\n",
       "      <td>9.169250</td>\n",
       "    </tr>\n",
       "    <tr>\n",
       "      <th>3</th>\n",
       "      <td>4423510.5</td>\n",
       "      <td>13</td>\n",
       "      <td>761.676086</td>\n",
       "      <td>16.977160</td>\n",
       "      <td>9.211286</td>\n",
       "    </tr>\n",
       "    <tr>\n",
       "      <th>4</th>\n",
       "      <td>4405988.5</td>\n",
       "      <td>13</td>\n",
       "      <td>761.159485</td>\n",
       "      <td>16.961489</td>\n",
       "      <td>9.189891</td>\n",
       "    </tr>\n",
       "    <tr>\n",
       "      <th>...</th>\n",
       "      <td>...</td>\n",
       "      <td>...</td>\n",
       "      <td>...</td>\n",
       "      <td>...</td>\n",
       "      <td>...</td>\n",
       "    </tr>\n",
       "    <tr>\n",
       "      <th>95</th>\n",
       "      <td>7353334.5</td>\n",
       "      <td>1</td>\n",
       "      <td>1271.030396</td>\n",
       "      <td>20.558189</td>\n",
       "      <td>11.284437</td>\n",
       "    </tr>\n",
       "    <tr>\n",
       "      <th>96</th>\n",
       "      <td>7503805.5</td>\n",
       "      <td>1</td>\n",
       "      <td>1270.647705</td>\n",
       "      <td>20.560911</td>\n",
       "      <td>11.287065</td>\n",
       "    </tr>\n",
       "    <tr>\n",
       "      <th>97</th>\n",
       "      <td>6848960.5</td>\n",
       "      <td>4</td>\n",
       "      <td>1271.094849</td>\n",
       "      <td>19.725544</td>\n",
       "      <td>10.540176</td>\n",
       "    </tr>\n",
       "    <tr>\n",
       "      <th>98</th>\n",
       "      <td>6617482.0</td>\n",
       "      <td>4</td>\n",
       "      <td>1272.425293</td>\n",
       "      <td>19.748709</td>\n",
       "      <td>10.555010</td>\n",
       "    </tr>\n",
       "    <tr>\n",
       "      <th>99</th>\n",
       "      <td>6645493.0</td>\n",
       "      <td>4</td>\n",
       "      <td>1270.911743</td>\n",
       "      <td>19.764826</td>\n",
       "      <td>10.555438</td>\n",
       "    </tr>\n",
       "  </tbody>\n",
       "</table>\n",
       "<p>100 rows × 5 columns</p>\n",
       "</div>"
      ],
      "text/plain": [
       "    PU_MOY_F2 METAL    LARG_S_E5    D_EPF_1    D_EPF_2\n",
       "0   4438748.0    13   760.266235  16.998037   9.217524\n",
       "1   4351820.0    13   760.719604  16.977560   9.218289\n",
       "2   4716703.0    13   761.623596  16.932531   9.169250\n",
       "3   4423510.5    13   761.676086  16.977160   9.211286\n",
       "4   4405988.5    13   761.159485  16.961489   9.189891\n",
       "..        ...   ...          ...        ...        ...\n",
       "95  7353334.5     1  1271.030396  20.558189  11.284437\n",
       "96  7503805.5     1  1270.647705  20.560911  11.287065\n",
       "97  6848960.5     4  1271.094849  19.725544  10.540176\n",
       "98  6617482.0     4  1272.425293  19.748709  10.555010\n",
       "99  6645493.0     4  1270.911743  19.764826  10.555438\n",
       "\n",
       "[100 rows x 5 columns]"
      ]
     },
     "execution_count": 36,
     "metadata": {},
     "output_type": "execute_result"
    }
   ],
   "source": [
    "df.iloc[0:100]"
   ]
  }
 ],
 "metadata": {
  "kernelspec": {
   "display_name": "Python (monenv)",
   "language": "python",
   "name": "monenv"
  },
  "language_info": {
   "codemirror_mode": {
    "name": "ipython",
    "version": 3
   },
   "file_extension": ".py",
   "mimetype": "text/x-python",
   "name": "python",
   "nbconvert_exporter": "python",
   "pygments_lexer": "ipython3",
   "version": "3.12.3"
  }
 },
 "nbformat": 4,
 "nbformat_minor": 5
}
